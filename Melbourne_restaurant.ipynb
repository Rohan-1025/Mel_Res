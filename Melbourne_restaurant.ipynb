{
 "cells": [
  {
   "cell_type": "code",
   "execution_count": null,
   "metadata": {},
   "outputs": [],
   "source": [
    "from zomathon import ZomatoAPI\n",
    "import pandas as pd\n",
    "import folium\n",
    "import jovian"
   ]
  },
  {
   "cell_type": "code",
   "execution_count": null,
   "metadata": {},
   "outputs": [],
   "source": [
    "zom = ZomatoAPI('3943f8d142f7132a1c68e94b872649b2') #enter your API key\n",
    "\n",
    "name = [] #store the name \n",
    "location=[]  #Store the location \n",
    "lat=[]  #store the latitude\n",
    "lng=[]   #store the longitude\n",
    "avg_cost_2=[]  #store the average cost\n",
    "price_rnge=[]  #store the price range\n",
    "rating=[]    #store the rating\n",
    "\n",
    "for x in range(0,100,20):\n",
    "    res = zom.search(city_id=259,start=x,count=20,cuisines=148,category=10)  \n",
    "    for a in res['restaurants']:\n",
    "        name.append(a['restaurant']['name'])\n",
    "        location.append(a['restaurant']['location']['address'])\n",
    "        lat.append(a['restaurant']['location']['latitude'])\n",
    "        lng.append(a['restaurant']['location']['longitude'])\n",
    "        avg_cost_2.append(a['restaurant']['average_cost_for_two'])\n",
    "        price_rnge.append(a['restaurant']['price_range'])\n",
    "        rating.append(a['restaurant']['user_rating']['aggregate_rating'])\n",
    "    \n",
    "col = {'Name':name,'Location':location,'Latitude':lat,'Longitude':lng,'Average cost for 2':avg_cost_2,'Price range':price_rnge,'Rating':rating}    \n",
    "df= pd.DataFrame(col)    "
   ]
  },
  {
   "cell_type": "code",
   "execution_count": null,
   "metadata": {
    "scrolled": true
   },
   "outputs": [],
   "source": [
    "df"
   ]
  },
  {
   "cell_type": "code",
   "execution_count": null,
   "metadata": {
    "scrolled": true
   },
   "outputs": [],
   "source": [
    "df.sort_values('Rating', ascending=False)"
   ]
  },
  {
   "cell_type": "code",
   "execution_count": null,
   "metadata": {},
   "outputs": [],
   "source": [
    "#calculating mean\n",
    "df[\"Average cost for 2\"].mean()"
   ]
  },
  {
   "cell_type": "code",
   "execution_count": null,
   "metadata": {},
   "outputs": [],
   "source": [
    "#removing outliers and calculating mean\n",
    "df[df['Average cost for 2']<=100]['Average cost for 2'].mean()"
   ]
  },
  {
   "cell_type": "code",
   "execution_count": null,
   "metadata": {
    "scrolled": true
   },
   "outputs": [],
   "source": [
    "df.groupby('Average cost for 2')['Average cost for 2'].count().plot.bar()"
   ]
  },
  {
   "cell_type": "code",
   "execution_count": null,
   "metadata": {
    "scrolled": false
   },
   "outputs": [],
   "source": [
    "#plotting the data\n",
    "fig, axs = plt.subplots(1,2,figsize=(18,10))\n",
    "df.hist('Average cost for 2',ax=axs[0])\n",
    "df.boxplot(column = 'Average cost for 2',ax=axs[1])"
   ]
  },
  {
   "cell_type": "code",
   "execution_count": null,
   "metadata": {},
   "outputs": [],
   "source": [
    "mel_map = folium.Map([-37.840935, 144.946457], zoom_start=10)\n",
    "mel_map"
   ]
  },
  {
   "cell_type": "code",
   "execution_count": null,
   "metadata": {},
   "outputs": [],
   "source": [
    "for index, row in df.iterrows():\n",
    "    if row['Average cost for 2']<=59.8:\n",
    "        folium.Marker([row['Latitude'], row['Longitude']],\n",
    "                      popup=row['Name']+\",\"+\" \"+\"Rating=\"+str(row['Rating']),\n",
    "                      tooltip=row['Location'],\n",
    "                      icon=folium.Icon(color='green')\n",
    "                     ).add_to(mel_map)\n",
    "    else:\n",
    "        folium.Marker([row['Latitude'], row['Longitude']],\n",
    "                      popup=row['Name']+\",\"+\" \"+\"Rating=\"+str(row['Rating']),\n",
    "                      tooltip=row['Location'],\n",
    "                      icon=folium.Icon(color='red')\n",
    "                     ).add_to(mel_map)\n",
    "      \n",
    "mel_map    "
   ]
  },
  {
   "cell_type": "code",
   "execution_count": null,
   "metadata": {},
   "outputs": [],
   "source": [
    "from math import radians, cos, sin, asin, sqrt\n",
    "\n",
    "def haversine(lon1, lat1, lon2, lat2):\n",
    "    \"\"\"\n",
    "    Calculate the great circle distance between two points \n",
    "    on the earth (specified in decimal degrees)\n",
    "    \"\"\"\n",
    "    # convert decimal degrees to radians \n",
    "    lon1, lat1, lon2, lat2 = map(radians, [lon1, lat1, lon2, lat2])\n",
    "\n",
    "    # haversine formula \n",
    "    dlon = lon2 - lon1 \n",
    "    dlat = lat2 - lat1 \n",
    "    a = sin(dlat/2)**2 + cos(lat1) * cos(lat2) * sin(dlon/2)**2\n",
    "    c = 2 * asin(sqrt(a)) \n",
    "    r = 6378 # Radius of earth in kilometers. Use 3956 for miles\n",
    "    return c * r"
   ]
  },
  {
   "cell_type": "code",
   "execution_count": null,
   "metadata": {},
   "outputs": [],
   "source": [
    "#latitude and longitude for the centre of CBD\n",
    "cbd_lat,cbd_lng =  -37.81239161656876, 144.96227284082644"
   ]
  },
  {
   "cell_type": "code",
   "execution_count": null,
   "metadata": {},
   "outputs": [],
   "source": [
    "#calculating haversine distance and storing in a new column\n",
    "for index,row in df.iterrows():\n",
    "    res_lat = float(row['Latitude'])\n",
    "    res_lng = float(row['Longitude'])\n",
    "    distance_from_cbd = haversine(cbd_lng,cbd_lat,res_lng,res_lat)\n",
    "    df.loc[index,'Distance from CBD']=distance_from_cbd"
   ]
  },
  {
   "cell_type": "code",
   "execution_count": null,
   "metadata": {},
   "outputs": [],
   "source": [
    "df.sort_values('Distance from CBD', ascending=False)"
   ]
  },
  {
   "cell_type": "code",
   "execution_count": null,
   "metadata": {},
   "outputs": [],
   "source": [
    "cbd_res = df[df['Distance from CBD']<1]"
   ]
  },
  {
   "cell_type": "code",
   "execution_count": null,
   "metadata": {},
   "outputs": [],
   "source": [
    "cbd_res"
   ]
  },
  {
   "cell_type": "code",
   "execution_count": null,
   "metadata": {},
   "outputs": [],
   "source": [
    "cbd_res[\"Average cost for 2\"].mean()"
   ]
  },
  {
   "cell_type": "code",
   "execution_count": null,
   "metadata": {
    "scrolled": false
   },
   "outputs": [],
   "source": [
    "#plotting data \n",
    "fig, axs = plt.subplots(1,2,figsize=(18,10))\n",
    "cbd_res.hist('Average cost for 2',ax=axs[0])\n",
    "cbd_res.boxplot(column = 'Average cost for 2',ax=axs[1])"
   ]
  },
  {
   "cell_type": "code",
   "execution_count": null,
   "metadata": {},
   "outputs": [],
   "source": [
    "#calculating median\n",
    "cbd_res[\"Average cost for 2\"].median()"
   ]
  },
  {
   "cell_type": "code",
   "execution_count": null,
   "metadata": {},
   "outputs": [],
   "source": [
    "cbd_map = folium.Map([-37.840935, 144.946457], zoom_start=10)\n",
    "cbd_map"
   ]
  },
  {
   "cell_type": "code",
   "execution_count": null,
   "metadata": {},
   "outputs": [],
   "source": [
    "for index, row in cbd_res.iterrows():\n",
    "    if row['Average cost for 2']<=50:\n",
    "        folium.Marker([row['Latitude'], row['Longitude']],\n",
    "                      popup=row['Name']+\",\"+\" \"+\"Rating=\"+str(row['Rating']),\n",
    "                      tooltip=row['Location'],\n",
    "                      icon=folium.Icon(color='green')\n",
    "                     ).add_to(cbd_map)\n",
    "    else:\n",
    "        folium.Marker([row['Latitude'], row['Longitude']],\n",
    "                      popup=row['Name']+\",\"+\" \"+\"Rating=\"+str(row['Rating']),\n",
    "                      tooltip=row['Location'],\n",
    "                      icon=folium.Icon(color='red')\n",
    "                     ).add_to(cbd_map)\n",
    "cbd_map        "
   ]
  },
  {
   "cell_type": "code",
   "execution_count": null,
   "metadata": {},
   "outputs": [],
   "source": [
    "out_res = df[df['Distance from CBD']>20]"
   ]
  },
  {
   "cell_type": "code",
   "execution_count": null,
   "metadata": {
    "scrolled": false
   },
   "outputs": [],
   "source": [
    "out_res"
   ]
  },
  {
   "cell_type": "code",
   "execution_count": null,
   "metadata": {},
   "outputs": [],
   "source": [
    "#calculating mean\n",
    "out_res[\"Average cost for 2\"].mean()"
   ]
  },
  {
   "cell_type": "code",
   "execution_count": null,
   "metadata": {},
   "outputs": [],
   "source": [
    "#plotting data\n",
    "fig, axs = plt.subplots(1,2,figsize=(18,10))\n",
    "out_res.hist('Average cost for 2',ax=axs[0])\n",
    "out_res.boxplot(column = 'Average cost for 2',ax=axs[1])"
   ]
  },
  {
   "cell_type": "code",
   "execution_count": null,
   "metadata": {},
   "outputs": [],
   "source": [
    "out_map = folium.Map([-37.840935, 144.946457], zoom_start=10)\n",
    "out_map"
   ]
  },
  {
   "cell_type": "code",
   "execution_count": null,
   "metadata": {},
   "outputs": [],
   "source": [
    "for index, row in out_res.iterrows():\n",
    "    if row['Average cost for 2']<=53.1:\n",
    "        folium.Marker([row['Latitude'], row['Longitude']],\n",
    "                      popup=row['Name']+\",\"+\" \"+\"Rating=\"+str(row['Rating']),\n",
    "                      tooltip=row['Location'],\n",
    "                      icon=folium.Icon(color='green')\n",
    "                     ).add_to(out_map)\n",
    "    else:\n",
    "        folium.Marker([row['Latitude'], row['Longitude']],\n",
    "                      popup=row['Name']+\",\"+\" \"+\"Rating=\"+str(row['Rating']),\n",
    "                      tooltip=row['Location'],\n",
    "                      icon=folium.Icon(color='red')\n",
    "                     ).add_to(out_map)\n",
    "\n",
    "out_map"
   ]
  },
  {
   "cell_type": "code",
   "execution_count": null,
   "metadata": {},
   "outputs": [],
   "source": []
  }
 ],
 "metadata": {
  "kernelspec": {
   "display_name": "Python 3",
   "language": "python",
   "name": "python3"
  },
  "language_info": {
   "codemirror_mode": {
    "name": "ipython",
    "version": 3
   },
   "file_extension": ".py",
   "mimetype": "text/x-python",
   "name": "python",
   "nbconvert_exporter": "python",
   "pygments_lexer": "ipython3",
   "version": "3.8.3"
  }
 },
 "nbformat": 4,
 "nbformat_minor": 4
}
